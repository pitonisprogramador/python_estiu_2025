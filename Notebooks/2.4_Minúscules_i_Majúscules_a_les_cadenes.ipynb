{
 "cells": [
  {
   "cell_type": "markdown",
   "metadata": {},
   "source": [
    "2.4 MINÚSCULES I MAJÚSCULES A LES CADENES"
   ]
  },
  {
   "cell_type": "markdown",
   "metadata": {},
   "source": [
    " capitalize().  Presenta la cadena amb el primer caracter en majúscules però no es modifica la cadena"
   ]
  },
  {
   "cell_type": "code",
   "execution_count": 21,
   "metadata": {},
   "outputs": [
    {
     "name": "stdout",
     "output_type": "stream",
     "text": [
      "Enginyeria\n",
      "enginYeria\n"
     ]
    }
   ],
   "source": [
    "cadena = \"enginYeria\"\n",
    "print(cadena.capitalize())\n",
    "print(cadena)"
   ]
  },
  {
   "cell_type": "markdown",
   "metadata": {},
   "source": [
    "Fixa't que cadena segueix igual i  no es modifica. Per modificar-la caldria assignar-la a una variable. Apart les cadenes o strings són inmutables"
   ]
  },
  {
   "cell_type": "markdown",
   "metadata": {},
   "source": [
    "lower(). Presenta la cadena en minúscules però no es modifica la cadena"
   ]
  },
  {
   "cell_type": "code",
   "execution_count": 22,
   "metadata": {},
   "outputs": [
    {
     "name": "stdout",
     "output_type": "stream",
     "text": [
      "enginyeria\n",
      "enginYeria\n"
     ]
    }
   ],
   "source": [
    "cadena = \"enginYeria\"\n",
    "print(cadena.lower())\n",
    "print(cadena)"
   ]
  },
  {
   "cell_type": "markdown",
   "metadata": {},
   "source": [
    "upper(). Presenta la cadena en majúscules però no es modifica la cadena"
   ]
  },
  {
   "cell_type": "code",
   "execution_count": 23,
   "metadata": {},
   "outputs": [
    {
     "name": "stdout",
     "output_type": "stream",
     "text": [
      "ENGINYERIA\n",
      "EnginYeria\n"
     ]
    }
   ],
   "source": [
    "cadena = \"EnginYeria\"\n",
    "print(cadena.upper())\n",
    "print(cadena)\n",
    "\n"
   ]
  }
 ],
 "metadata": {
  "kernelspec": {
   "display_name": "Python 3",
   "language": "python",
   "name": "python3"
  },
  "language_info": {
   "codemirror_mode": {
    "name": "ipython",
    "version": 3
   },
   "file_extension": ".py",
   "mimetype": "text/x-python",
   "name": "python",
   "nbconvert_exporter": "python",
   "pygments_lexer": "ipython3",
   "version": "3.12.5"
  }
 },
 "nbformat": 4,
 "nbformat_minor": 2
}
