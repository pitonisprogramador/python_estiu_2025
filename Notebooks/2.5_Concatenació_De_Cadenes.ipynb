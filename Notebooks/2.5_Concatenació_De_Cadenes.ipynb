{
 "cells": [
  {
   "cell_type": "markdown",
   "metadata": {},
   "source": [
    "2.4 CONCATENACIÓ DE CADENES. JOIN"
   ]
  },
  {
   "cell_type": "markdown",
   "metadata": {},
   "source": [
    "caracter.join(llista de cadenes)\n",
    "concatena les cadenes de la llista amb el caracter concret. \n",
    "'' vol dir que les concatena directament sense espais\n",
    "'@' vol dir que les concatena amb arroba com a caracter d'unió"
   ]
  },
  {
   "cell_type": "code",
   "execution_count": 7,
   "metadata": {},
   "outputs": [
    {
     "name": "stdout",
     "output_type": "stream",
     "text": [
      "hola  mejor caer en gracia que ser gracioso\n",
      "hola @ mejor caer en gracia @que ser gracioso\n"
     ]
    }
   ],
   "source": [
    "cad1 = \"hola \"\n",
    "cad2 = \" mejor caer en gracia \"\n",
    "cad3 = \"que ser gracioso\"\n",
    "print(''.join([cad1,cad2,cad3]))\n",
    "print('@'.join([cad1,cad2,cad3]))"
   ]
  },
  {
   "cell_type": "markdown",
   "metadata": {},
   "source": [
    "Hi ha formes per concatenar o operar amb cadenes com la impressió amb format. Fixa-t'hi!!!!"
   ]
  },
  {
   "cell_type": "code",
   "execution_count": 8,
   "metadata": {},
   "outputs": [
    {
     "name": "stdout",
     "output_type": "stream",
     "text": [
      "la primera cadena és hola , la segona,  mejor caer en gracia  i la última, que ser gracioso\n"
     ]
    }
   ],
   "source": [
    "cad1 = \"hola \"\n",
    "cad2 = \" mejor caer en gracia \"\n",
    "cad3 = \"que ser gracioso\"\n",
    "print(f\"la primera cadena és {cad1}, la segona, {cad2} i la última, {cad3}\")"
   ]
  },
  {
   "cell_type": "markdown",
   "metadata": {},
   "source": [
    "Aquesta opció és més moderna que la clàssica opció format. Mira-ho bé i practica."
   ]
  },
  {
   "cell_type": "code",
   "execution_count": 9,
   "metadata": {},
   "outputs": [
    {
     "name": "stdout",
     "output_type": "stream",
     "text": [
      "Hola Luisa, què tal estàs? la verdad es que yo muy bien\n"
     ]
    }
   ],
   "source": [
    "cad1 = \"Hola\"\n",
    "cad2 = \"què tal\"\n",
    "cad3 = \"estàs?\"\n",
    "print(\"{} Luisa, {} {} la verdad es que yo muy bien\".format(cad1,cad2,cad3))"
   ]
  },
  {
   "cell_type": "markdown",
   "metadata": {},
   "source": [
    "En tot cas, aquestes opcions de format són molt més elegants i pràctiques que no pas l'operador suma + entre cadenes. Això sí, tots tenim un passat \n",
    "i hem començat amb l'operador + per concatenar cadenes entre elles."
   ]
  }
 ],
 "metadata": {
  "kernelspec": {
   "display_name": "Python 3",
   "language": "python",
   "name": "python3"
  },
  "language_info": {
   "codemirror_mode": {
    "name": "ipython",
    "version": 3
   },
   "file_extension": ".py",
   "mimetype": "text/x-python",
   "name": "python",
   "nbconvert_exporter": "python",
   "pygments_lexer": "ipython3",
   "version": "3.12.5"
  }
 },
 "nbformat": 4,
 "nbformat_minor": 2
}
