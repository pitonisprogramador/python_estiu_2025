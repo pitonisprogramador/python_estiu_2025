{
 "cells": [
  {
   "cell_type": "markdown",
   "metadata": {},
   "source": [
    "2.6 DIVISIÓ DE CADENES"
   ]
  },
  {
   "cell_type": "markdown",
   "metadata": {},
   "source": [
    "split.  La gramàtica és cadena.split(caracter)\n",
    "\n",
    "        Es tracta de dividir una cadena en una llista de subcadenes trossejant-la a partir del caracter concret.\n",
    "        Per exemple, la cadena \"SuperCalifragilisticoespialidoso\" es transforma en [\"SuperC\",\"lifr\",\"gilisticoespi\",\"lidoso\"]\n",
    "        mitjançant el comandament \"SuperCalifragilisticoespialidoso\".split('a')"
   ]
  },
  {
   "cell_type": "code",
   "execution_count": 5,
   "metadata": {},
   "outputs": [
    {
     "name": "stdout",
     "output_type": "stream",
     "text": [
      "['SuperC', 'lifr', 'gilisticoespi', 'lidoso']\n",
      "SuperCalifragilisticoespialidoso\n"
     ]
    }
   ],
   "source": [
    "cadena = \"SuperCalifragilisticoespialidoso\"\n",
    "print(cadena.split('a'))\n",
    "print(cadena)"
   ]
  },
  {
   "cell_type": "markdown",
   "metadata": {},
   "source": [
    "Fixa't....cadena no es modifica"
   ]
  },
  {
   "cell_type": "markdown",
   "metadata": {},
   "source": [
    "partition. La gramàtica és cadena.partition(caracter)\n",
    "Té relació amb split però només es divideix una cadena en una tupla amb 2 subcadenes tenint en compte només la primera aparició d'un caracter\n",
    "Per exemple, la cadena \"SuperCalifragilisticoespialidoso\" es transforma en [\"SuperC\", \"a\", \"lifragilisticoespialidoso\"]\n",
    "mitjançant el comandament \"SuperCalifragilisticoespialidoso\".partition('a')"
   ]
  },
  {
   "cell_type": "code",
   "execution_count": 6,
   "metadata": {},
   "outputs": [
    {
     "name": "stdout",
     "output_type": "stream",
     "text": [
      "('SuperC', 'a', 'lifragilisticoespialidoso')\n",
      "SuperCalifragilisticoespialidoso\n"
     ]
    }
   ],
   "source": [
    "cadena = \"SuperCalifragilisticoespialidoso\"\n",
    "print(cadena.partition('a'))\n",
    "print(cadena)"
   ]
  },
  {
   "cell_type": "markdown",
   "metadata": {},
   "source": [
    "rpartition. La gramàtica és cadena.rpartition(caracter)\n",
    "Té relació amb split però només es divideix una cadena en una tupla amb 2 subcadenes tenint en compte només la última aparició d'un caracter\n",
    "Per exemple, la cadena \"SuperCalifragilisticoespialidoso\" es transforma en [\"SuperCalifragilisticoespi\", \"a\", \"lidoso\"]\n",
    "mitjançant el comandament \"SuperCalifragilisticoespialidoso\".rpartition('a')"
   ]
  },
  {
   "cell_type": "code",
   "execution_count": 7,
   "metadata": {},
   "outputs": [
    {
     "name": "stdout",
     "output_type": "stream",
     "text": [
      "('SuperCalifragilisticoespi', 'a', 'lidoso')\n",
      "SuperCalifragilisticoespialidoso\n"
     ]
    }
   ],
   "source": [
    "cadena = \"SuperCalifragilisticoespialidoso\"\n",
    "print(cadena.rpartition('a'))\n",
    "print(cadena)"
   ]
  },
  {
   "cell_type": "markdown",
   "metadata": {},
   "source": [
    "Fixa't que cap dels mètodes modifica la cadena original."
   ]
  }
 ],
 "metadata": {
  "kernelspec": {
   "display_name": "Python 3",
   "language": "python",
   "name": "python3"
  },
  "language_info": {
   "codemirror_mode": {
    "name": "ipython",
    "version": 3
   },
   "file_extension": ".py",
   "mimetype": "text/x-python",
   "name": "python",
   "nbconvert_exporter": "python",
   "pygments_lexer": "ipython3",
   "version": "3.12.5"
  }
 },
 "nbformat": 4,
 "nbformat_minor": 2
}
