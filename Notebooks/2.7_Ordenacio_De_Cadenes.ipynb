{
 "cells": [
  {
   "cell_type": "markdown",
   "metadata": {},
   "source": [
    "2.7 ORDENACIÓ DE CADENES\n",
    "\n",
    "sorted(cadena). Ordena una cadena com a una llista de caracters ordenats de petit a gran segons el seu valor ordinal.\n",
    "\n",
    "Per exemple, si fem sorted(cadena) amb la  cadena = \"hola\"  es mostrarà com a resultat ['a','h','l','o'].\n"
   ]
  },
  {
   "cell_type": "code",
   "execution_count": 12,
   "metadata": {},
   "outputs": [
    {
     "name": "stdout",
     "output_type": "stream",
     "text": [
      "['a', 'h', 'l', 'o']\n"
     ]
    }
   ],
   "source": [
    "cadena = \"hola\"\n",
    "print(sorted(cadena))"
   ]
  },
  {
   "cell_type": "markdown",
   "metadata": {},
   "source": [
    "Si vull mostrar el resultat com a una cadena ordenada i no pas com a llista he de combinar sorted amb el mètode join.\n",
    "És a dir, ''.join(sorted(cadena)) donarà com a resultat \"ahlo\""
   ]
  },
  {
   "cell_type": "code",
   "execution_count": 13,
   "metadata": {},
   "outputs": [
    {
     "name": "stdout",
     "output_type": "stream",
     "text": [
      "ahlo\n"
     ]
    }
   ],
   "source": [
    "print(''.join(sorted(cadena)))"
   ]
  },
  {
   "cell_type": "markdown",
   "metadata": {},
   "source": [
    "Si es vol utilitzar el mètode sorted per mostrar els resultats de gran a petit cal utilitzar-lo amb el modificador reverse = True. Observa com queden \n",
    "les sortides de print amb aquest nou modificador."
   ]
  },
  {
   "cell_type": "code",
   "execution_count": 14,
   "metadata": {},
   "outputs": [
    {
     "name": "stdout",
     "output_type": "stream",
     "text": [
      "['o', 'l', 'h', 'a']\n",
      "olha\n"
     ]
    }
   ],
   "source": [
    "print(sorted(cadena,reverse = True))\n",
    "      \n",
    "print(''.join(sorted(cadena,reverse = True)))"
   ]
  },
  {
   "cell_type": "markdown",
   "metadata": {},
   "source": [
    "Observa que cap d'aquests mètodes d'ordenació modifica la cadena original. Per tant si es vol modificar la cadena original caldrà fer una reassignació."
   ]
  },
  {
   "cell_type": "code",
   "execution_count": 15,
   "metadata": {},
   "outputs": [
    {
     "name": "stdout",
     "output_type": "stream",
     "text": [
      "hola\n"
     ]
    }
   ],
   "source": [
    "print(cadena)"
   ]
  }
 ],
 "metadata": {
  "kernelspec": {
   "display_name": "Python 3",
   "language": "python",
   "name": "python3"
  },
  "language_info": {
   "codemirror_mode": {
    "name": "ipython",
    "version": 3
   },
   "file_extension": ".py",
   "mimetype": "text/x-python",
   "name": "python",
   "nbconvert_exporter": "python",
   "pygments_lexer": "ipython3",
   "version": "3.12.5"
  }
 },
 "nbformat": 4,
 "nbformat_minor": 2
}
