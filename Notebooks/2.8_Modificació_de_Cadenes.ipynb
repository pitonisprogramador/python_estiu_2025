{
 "cells": [
  {
   "cell_type": "markdown",
   "metadata": {},
   "source": [
    "2.8 MODIFICACIÓ DE CADENES\n",
    "\n",
    "Sigui una cadena. Els mètodes de modificació són:\n",
    "\n",
    "cadena.replace(caracter1, caracter2)   Substitueix el caracter1 pel caracter2 en totes les seves aparicions a la cadena"
   ]
  },
  {
   "cell_type": "code",
   "execution_count": 8,
   "metadata": {},
   "outputs": [
    {
     "name": "stdout",
     "output_type": "stream",
     "text": [
      "superc@lifr@gilisticoespi@lidosos\n"
     ]
    }
   ],
   "source": [
    "cadena = \"supercalifragilisticoespialidosos\"\n",
    "print(cadena.replace('a','@'))\n"
   ]
  },
  {
   "cell_type": "markdown",
   "metadata": {},
   "source": [
    "cadena.strip(caracter) Elimina un caracter determinat de l'inici o final d'una cadena"
   ]
  },
  {
   "cell_type": "code",
   "execution_count": 9,
   "metadata": {},
   "outputs": [
    {
     "name": "stdout",
     "output_type": "stream",
     "text": [
      "upercalifragilisticoespialidoso\n"
     ]
    }
   ],
   "source": [
    "print(cadena.strip('s'))"
   ]
  },
  {
   "cell_type": "markdown",
   "metadata": {},
   "source": [
    "cadena.lstrip(caracter) Elimina un caracter determinat de l'inici d'una cadena"
   ]
  },
  {
   "cell_type": "code",
   "execution_count": 10,
   "metadata": {},
   "outputs": [
    {
     "name": "stdout",
     "output_type": "stream",
     "text": [
      "upercalifragilisticoespialidosos\n"
     ]
    }
   ],
   "source": [
    "print(cadena.lstrip('s'))\n"
   ]
  },
  {
   "cell_type": "markdown",
   "metadata": {},
   "source": [
    "cadena.rstrip(caracter) Elimina un caracter determinat del final d'una cadena"
   ]
  },
  {
   "cell_type": "code",
   "execution_count": 11,
   "metadata": {},
   "outputs": [
    {
     "name": "stdout",
     "output_type": "stream",
     "text": [
      "supercalifragilisticoespialidoso\n"
     ]
    }
   ],
   "source": [
    "print(cadena.rstrip('s'))\n"
   ]
  },
  {
   "cell_type": "markdown",
   "metadata": {},
   "source": [
    "cadena.zfill(longitud desitjada) omple de zeros a l'esquerre- zero fill o zfill - fins que la longitud de la cadena és la desitjada."
   ]
  },
  {
   "cell_type": "code",
   "execution_count": 12,
   "metadata": {},
   "outputs": [
    {
     "name": "stdout",
     "output_type": "stream",
     "text": [
      "0000000supercalifragilisticoespialidosos\n"
     ]
    }
   ],
   "source": [
    "print(cadena.zfill(40))\n",
    "\n"
   ]
  },
  {
   "cell_type": "markdown",
   "metadata": {},
   "source": [
    "Observa que cap dels mètodes anteriors modifica la cadena original"
   ]
  },
  {
   "cell_type": "code",
   "execution_count": 13,
   "metadata": {},
   "outputs": [
    {
     "name": "stdout",
     "output_type": "stream",
     "text": [
      "supercalifragilisticoespialidosos\n"
     ]
    }
   ],
   "source": [
    "print(cadena)"
   ]
  }
 ],
 "metadata": {
  "kernelspec": {
   "display_name": "Python 3",
   "language": "python",
   "name": "python3"
  },
  "language_info": {
   "codemirror_mode": {
    "name": "ipython",
    "version": 3
   },
   "file_extension": ".py",
   "mimetype": "text/x-python",
   "name": "python",
   "nbconvert_exporter": "python",
   "pygments_lexer": "ipython3",
   "version": "3.12.5"
  }
 },
 "nbformat": 4,
 "nbformat_minor": 2
}
