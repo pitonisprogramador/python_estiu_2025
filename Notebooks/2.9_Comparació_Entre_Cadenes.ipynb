{
 "cells": [
  {
   "cell_type": "markdown",
   "metadata": {},
   "source": [
    "A Python, es poden executar diverses sentències que resulten vertaderes (True) o falses (False). Per a això, podem utilitzar els operadors següents, que aplicarem en la comparació de cadenes\n",
    "\n",
    "\n",
    " més petita      <\n",
    "\n",
    " més petita o igual       <=\n",
    "\n",
    " més gran      >\n",
    "\n",
    " més gran o igual       >=\n",
    "\n",
    " igual     ==\n",
    "\n",
    " diferent      !="
   ]
  },
  {
   "cell_type": "markdown",
   "metadata": {},
   "source": [
    " més petita  <"
   ]
  },
  {
   "cell_type": "code",
   "execution_count": 110,
   "metadata": {},
   "outputs": [
    {
     "data": {
      "text/plain": [
       "True"
      ]
     },
     "execution_count": 110,
     "metadata": {},
     "output_type": "execute_result"
    }
   ],
   "source": [
    "\"ab\" < \"ac\""
   ]
  },
  {
   "cell_type": "markdown",
   "metadata": {},
   "source": [
    "més petita o igual  <= "
   ]
  },
  {
   "cell_type": "code",
   "execution_count": 111,
   "metadata": {},
   "outputs": [
    {
     "data": {
      "text/plain": [
       "True"
      ]
     },
     "execution_count": 111,
     "metadata": {},
     "output_type": "execute_result"
    }
   ],
   "source": [
    "\"Ab\" <= \"Ab\""
   ]
  },
  {
   "cell_type": "markdown",
   "metadata": {},
   "source": [
    "més gran   > "
   ]
  },
  {
   "cell_type": "code",
   "execution_count": 112,
   "metadata": {},
   "outputs": [
    {
     "data": {
      "text/plain": [
       "True"
      ]
     },
     "execution_count": 112,
     "metadata": {},
     "output_type": "execute_result"
    }
   ],
   "source": [
    "\"Universitats\" > \"Universitat\""
   ]
  },
  {
   "cell_type": "markdown",
   "metadata": {},
   "source": [
    "més gran o igual   >= "
   ]
  },
  {
   "cell_type": "code",
   "execution_count": 113,
   "metadata": {},
   "outputs": [
    {
     "data": {
      "text/plain": [
       "True"
      ]
     },
     "execution_count": 113,
     "metadata": {},
     "output_type": "execute_result"
    }
   ],
   "source": [
    "\"Universitats\" >= 'Universitats'"
   ]
  },
  {
   "cell_type": "markdown",
   "metadata": {},
   "source": [
    "igual =="
   ]
  },
  {
   "cell_type": "code",
   "execution_count": 114,
   "metadata": {},
   "outputs": [
    {
     "data": {
      "text/plain": [
       "False"
      ]
     },
     "execution_count": 114,
     "metadata": {},
     "output_type": "execute_result"
    }
   ],
   "source": [
    "\"Universitats\" == \"universitats\""
   ]
  },
  {
   "cell_type": "markdown",
   "metadata": {},
   "source": [
    " diferent  != "
   ]
  },
  {
   "cell_type": "code",
   "execution_count": 115,
   "metadata": {},
   "outputs": [
    {
     "data": {
      "text/plain": [
       "True"
      ]
     },
     "execution_count": 115,
     "metadata": {},
     "output_type": "execute_result"
    }
   ],
   "source": [
    "\"hola\" != \"Hola\""
   ]
  }
 ],
 "metadata": {
  "kernelspec": {
   "display_name": "base",
   "language": "python",
   "name": "python3"
  },
  "language_info": {
   "codemirror_mode": {
    "name": "ipython",
    "version": 3
   },
   "file_extension": ".py",
   "mimetype": "text/x-python",
   "name": "python",
   "nbconvert_exporter": "python",
   "pygments_lexer": "ipython3",
   "version": "3.12.4"
  }
 },
 "nbformat": 4,
 "nbformat_minor": 2
}
